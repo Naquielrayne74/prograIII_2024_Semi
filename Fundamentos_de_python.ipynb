{
  "nbformat": 4,
  "nbformat_minor": 0,
  "metadata": {
    "colab": {
      "provenance": [],
      "authorship_tag": "ABX9TyMszk1q2Yl2HlS0KgNtsSsX",
      "include_colab_link": true
    },
    "kernelspec": {
      "name": "python3",
      "display_name": "Python 3"
    },
    "language_info": {
      "name": "python"
    }
  },
  "cells": [
    {
      "cell_type": "markdown",
      "metadata": {
        "id": "view-in-github",
        "colab_type": "text"
      },
      "source": [
        "<a href=\"https://colab.research.google.com/github/Naquielrayne74/prograIII_2024_Semi/blob/main/Fundamentos_de_python.ipynb\" target=\"_parent\"><img src=\"https://colab.research.google.com/assets/colab-badge.svg\" alt=\"Open In Colab\"/></a>"
      ]
    },
    {
      "cell_type": "code",
      "execution_count": 3,
      "metadata": {
        "colab": {
          "base_uri": "https://localhost:8080/"
        },
        "id": "xSykCy8-3gSg",
        "outputId": "553eb60d-adbd-4af4-bd38-1d19ba0a9796"
      },
      "outputs": [
        {
          "output_type": "stream",
          "name": "stdout",
          "text": [
            "hola mundo\n",
            "hola Nahun Martinez , inicial:  N M\n"
          ]
        }
      ],
      "source": [
        "print(\"hola mundo\")\n",
        "nombre = \"Nahun Martinez\"\n",
        "\n",
        "print(\"hola\", nombre, \", inicial: \", nombre[0], nombre[6])"
      ]
    },
    {
      "cell_type": "markdown",
      "source": [
        "EJERCICIO, crear un programa en python que sume dos numeros"
      ],
      "metadata": {
        "id": "eWcV8y1b9i6J"
      }
    },
    {
      "cell_type": "code",
      "source": [
        "num1 = 5\n",
        "num2 = 9.5\n",
        "resp = num1 + num2\n",
        "print(\"La suma es: \", resp)\n"
      ],
      "metadata": {
        "colab": {
          "base_uri": "https://localhost:8080/"
        },
        "id": "PolI1HGC9sX9",
        "outputId": "82d5f230-0c0b-4566-93dd-c98d766dcdb8"
      },
      "execution_count": 4,
      "outputs": [
        {
          "output_type": "stream",
          "name": "stdout",
          "text": [
            "La suma es:  14.5\n"
          ]
        }
      ]
    },
    {
      "cell_type": "markdown",
      "source": [
        "EJERCICIO, crear un programa en python que sume dos numeros intriducidos por el usuario"
      ],
      "metadata": {
        "id": "r5td5JW-_uZh"
      }
    },
    {
      "cell_type": "code",
      "source": [
        "print(\"ingrese el primer numero\")\n",
        "num1 = float(input())\n",
        "\n",
        "print(\"ingrese el segundo numero\")\n",
        "num2 = float(input())\n",
        "\n",
        "resp = num1 + num2\n",
        "print(\"la suma es: \", resp)"
      ],
      "metadata": {
        "colab": {
          "base_uri": "https://localhost:8080/"
        },
        "id": "6qSaQMHV_3G6",
        "outputId": "e3841d56-6512-42e7-81e6-6bdda4c9ff92"
      },
      "execution_count": 6,
      "outputs": [
        {
          "output_type": "stream",
          "name": "stdout",
          "text": [
            "ingrese el primer numero\n",
            "2\n",
            "ingrese el segundo numero\n",
            "4\n",
            "la suma es:  6.0\n"
          ]
        }
      ]
    },
    {
      "cell_type": "code",
      "source": [
        "#tipos de datos\n",
        "num1 = 5\n",
        "num2 = 5.9\n",
        "\n",
        "nombre = \"Nahun Martinez\"\n",
        "print(nombre[0:5], nombre[:5], nombre[-2], nombre[5:len(nombre)])\n",
        "\n",
        "estado = True\n",
        "print(estado)\n",
        "\n",
        "print(type(nombre), type(num1), type(num2), type(estado))\n"
      ],
      "metadata": {
        "colab": {
          "base_uri": "https://localhost:8080/"
        },
        "id": "KcG56ehrCHc-",
        "outputId": "42f3fe1e-44a1-4e48-95ce-a2cfeb49ef3e"
      },
      "execution_count": 10,
      "outputs": [
        {
          "output_type": "stream",
          "name": "stdout",
          "text": [
            "Nahun Nahun e  Martinez\n"
          ]
        }
      ]
    },
    {
      "cell_type": "markdown",
      "source": [
        "EJERCICIO, cree un programa en python que lea un numero y determine si es par o impar."
      ],
      "metadata": {
        "id": "lam_Rg1uE54j"
      }
    },
    {
      "cell_type": "code",
      "source": [
        "num = int(input(\"ingrese un numero\"))\n",
        "if num % 2 == 0:\n",
        "  print (\"el numero es par\", num)\n",
        "else:\n",
        "  print(\"el numero es impar\")"
      ],
      "metadata": {
        "colab": {
          "base_uri": "https://localhost:8080/"
        },
        "id": "h97UGDmiFRLd",
        "outputId": "59d800df-696e-4101-f16c-79ec35c8b489"
      },
      "execution_count": 12,
      "outputs": [
        {
          "output_type": "stream",
          "name": "stdout",
          "text": [
            "ingrese un numero1\n",
            "el numero es impar\n"
          ]
        }
      ]
    }
  ]
}