{
  "nbformat": 4,
  "nbformat_minor": 0,
  "metadata": {
    "colab": {
      "provenance": [],
      "authorship_tag": "ABX9TyNYLkJB89rtbzBkhRiYhKLl",
      "include_colab_link": true
    },
    "kernelspec": {
      "name": "python3",
      "display_name": "Python 3"
    },
    "language_info": {
      "name": "python"
    }
  },
  "cells": [
    {
      "cell_type": "markdown",
      "metadata": {
        "id": "view-in-github",
        "colab_type": "text"
      },
      "source": [
        "<a href=\"https://colab.research.google.com/github/Naquielrayne74/prograIII_2024_Semi/blob/main/Fundamentos_de_python.ipynb\" target=\"_parent\"><img src=\"https://colab.research.google.com/assets/colab-badge.svg\" alt=\"Open In Colab\"/></a>"
      ]
    },
    {
      "cell_type": "code",
      "execution_count": null,
      "metadata": {
        "colab": {
          "base_uri": "https://localhost:8080/"
        },
        "id": "xSykCy8-3gSg",
        "outputId": "553eb60d-adbd-4af4-bd38-1d19ba0a9796"
      },
      "outputs": [
        {
          "output_type": "stream",
          "name": "stdout",
          "text": [
            "hola mundo\n",
            "hola Nahun Martinez , inicial:  N M\n"
          ]
        }
      ],
      "source": [
        "print(\"hola mundo\")\n",
        "nombre = \"Nahun Martinez\"\n",
        "\n",
        "print(\"hola\", nombre, \", inicial: \", nombre[0], nombre[6])"
      ]
    },
    {
      "cell_type": "markdown",
      "source": [
        "EJERCICIO, crear un programa en python que sume dos numeros"
      ],
      "metadata": {
        "id": "eWcV8y1b9i6J"
      }
    },
    {
      "cell_type": "code",
      "source": [
        "num1 = 5\n",
        "num2 = 9.5\n",
        "resp = num1 + num2\n",
        "print(\"La suma es: \", resp)\n"
      ],
      "metadata": {
        "colab": {
          "base_uri": "https://localhost:8080/"
        },
        "id": "PolI1HGC9sX9",
        "outputId": "82d5f230-0c0b-4566-93dd-c98d766dcdb8"
      },
      "execution_count": null,
      "outputs": [
        {
          "output_type": "stream",
          "name": "stdout",
          "text": [
            "La suma es:  14.5\n"
          ]
        }
      ]
    },
    {
      "cell_type": "markdown",
      "source": [
        "EJERCICIO, crear un programa en python que sume dos numeros intriducidos por el usuario"
      ],
      "metadata": {
        "id": "r5td5JW-_uZh"
      }
    },
    {
      "cell_type": "code",
      "source": [
        "print(\"ingrese el primer numero\")\n",
        "num1 = float(input())\n",
        "\n",
        "print(\"ingrese el segundo numero\")\n",
        "num2 = float(input())\n",
        "\n",
        "resp = num1 + num2\n",
        "print(\"la suma es: \", resp)"
      ],
      "metadata": {
        "colab": {
          "base_uri": "https://localhost:8080/"
        },
        "id": "6qSaQMHV_3G6",
        "outputId": "e3841d56-6512-42e7-81e6-6bdda4c9ff92"
      },
      "execution_count": null,
      "outputs": [
        {
          "output_type": "stream",
          "name": "stdout",
          "text": [
            "ingrese el primer numero\n",
            "2\n",
            "ingrese el segundo numero\n",
            "4\n",
            "la suma es:  6.0\n"
          ]
        }
      ]
    },
    {
      "cell_type": "code",
      "source": [
        "#tipos de datos\n",
        "num1 = 5\n",
        "num2 = 5.9\n",
        "\n",
        "nombre = \"Nahun Martinez\"\n",
        "print(nombre[0:5], nombre[:5], nombre[-2], nombre[5:len(nombre)])\n",
        "\n",
        "estado = True\n",
        "print(estado)\n",
        "\n",
        "print(type(nombre), type(num1), type(num2), type(estado))\n"
      ],
      "metadata": {
        "colab": {
          "base_uri": "https://localhost:8080/"
        },
        "id": "KcG56ehrCHc-",
        "outputId": "42f3fe1e-44a1-4e48-95ce-a2cfeb49ef3e"
      },
      "execution_count": null,
      "outputs": [
        {
          "output_type": "stream",
          "name": "stdout",
          "text": [
            "Nahun Nahun e  Martinez\n"
          ]
        }
      ]
    },
    {
      "cell_type": "markdown",
      "source": [
        "EJERCICIO, cree un programa en python que lea un numero y determine si es par o impar."
      ],
      "metadata": {
        "id": "lam_Rg1uE54j"
      }
    },
    {
      "cell_type": "code",
      "source": [
        "num = int(input(\"ingrese un numero\"))\n",
        "if num % 2 == 0:\n",
        "  print (\"el numero es par\", num)\n",
        "else:\n",
        "  print(\"el numero es impar\")"
      ],
      "metadata": {
        "colab": {
          "base_uri": "https://localhost:8080/"
        },
        "id": "h97UGDmiFRLd",
        "outputId": "59d800df-696e-4101-f16c-79ec35c8b489"
      },
      "execution_count": null,
      "outputs": [
        {
          "output_type": "stream",
          "name": "stdout",
          "text": [
            "ingrese un numero1\n",
            "el numero es impar\n"
          ]
        }
      ]
    },
    {
      "cell_type": "markdown",
      "source": [
        "Conversor de Fahrenheit a Celsius"
      ],
      "metadata": {
        "id": "UaTMhGzzBNMy"
      }
    },
    {
      "cell_type": "code",
      "source": [
        "def fahrenheit_a_celsius(fahrenheit):\n",
        "    celsius = (fahrenheit - 32) * 5.0/9.0\n",
        "    return celsius\n",
        "fahrenheit = float(input(\"Introduce la temperatura en Fahrenheit: \"))\n",
        "celsius = fahrenheit_a_celsius(fahrenheit)\n",
        "print(f\"{fahrenheit} grados Fahrenheit son {celsius:.2f} grados Celsius.\")"
      ],
      "metadata": {
        "colab": {
          "base_uri": "https://localhost:8080/"
        },
        "id": "HU3QcxacBREz",
        "outputId": "80992ff3-a286-492c-ca81-0dc820d37022"
      },
      "execution_count": null,
      "outputs": [
        {
          "output_type": "stream",
          "name": "stdout",
          "text": [
            "Introduce la temperatura en Fahrenheit: 75\n",
            "75.0 grados Fahrenheit son 23.89 grados Celsius.\n"
          ]
        }
      ]
    },
    {
      "cell_type": "markdown",
      "source": [
        "Conversor [Fahrenheit y Celcius] a kelvin"
      ],
      "metadata": {
        "id": "VnqVeGWfBWUe"
      }
    },
    {
      "cell_type": "code",
      "source": [
        "def fahrenheit_a_kelvin(fahrenheit):\n",
        "    kelvin = (fahrenheit - 32) * 5.0/9.0 + 273.15\n",
        "    return kelvin\n",
        "\n",
        "def celsius_a_kelvin(celsius):\n",
        "    kelvin = celsius + 273.15\n",
        "    return kelvin\n",
        "\n",
        "escala = input(\"Introduce la escala de la temperatura (F para Fahrenheit, C para Celsius): \").strip().upper()\n",
        "temperatura = float(input(f\"Introduce la temperatura en {escala}: \"))\n",
        "\n",
        "if escala == 'F':\n",
        "    kelvin = fahrenheit_a_kelvin(temperatura)\n",
        "elif escala == 'C':\n",
        "    kelvin = celsius_a_kelvin(temperatura)\n",
        "else:\n",
        "    print(\"Escala no válida.\")\n",
        "    kelvin = None\n",
        "\n",
        "if kelvin is not None:\n",
        " print(f\"La temperatura en Kelvin es: {kelvin:.2f} K.\")"
      ],
      "metadata": {
        "colab": {
          "base_uri": "https://localhost:8080/"
        },
        "id": "2WfsCz6XBcxS",
        "outputId": "cc78ba94-0c80-4721-e845-9c92afde3ae6"
      },
      "execution_count": null,
      "outputs": [
        {
          "output_type": "stream",
          "name": "stdout",
          "text": [
            "Introduce la escala de la temperatura (F para Fahrenheit, C para Celsius): f\n",
            "Introduce la temperatura en F: 75\n",
            "La temperatura en Kelvin es: 297.04 K.\n"
          ]
        }
      ]
    },
    {
      "cell_type": "markdown",
      "source": [
        "Ejercicio: elevar un numero al cuadrado."
      ],
      "metadata": {
        "id": "oko4ui3jAkG7"
      }
    },
    {
      "cell_type": "code",
      "source": [
        "def elevarCuadrado(base=0, exponente=2):\n",
        "  return base**exponente"
      ],
      "metadata": {
        "id": "KTdZQCvwAnt6"
      },
      "execution_count": null,
      "outputs": []
    },
    {
      "cell_type": "code",
      "source": [
        "num = int(input(\"Num: \"))\n",
        "print(\"cuadrado; \", elevarCuadrado(num, 3))"
      ],
      "metadata": {
        "colab": {
          "base_uri": "https://localhost:8080/"
        },
        "id": "uUmzTdoyAq_L",
        "outputId": "cc116def-32cb-495b-e0ad-3da4bc2c1126"
      },
      "execution_count": null,
      "outputs": [
        {
          "output_type": "stream",
          "name": "stdout",
          "text": [
            "Num: 2\n",
            "cuadrado;  8\n"
          ]
        }
      ]
    },
    {
      "cell_type": "markdown",
      "source": [
        "USANDO FUNCIONES LAMBDA."
      ],
      "metadata": {
        "id": "XpUfCkyfAxrO"
      }
    },
    {
      "cell_type": "code",
      "source": [
        "elevarCuadradoLambda = lambda base, exponente: base**exponente\n",
        "\n",
        "valor = int(input(\"Num: \"))\n",
        "print(\"Cuadrado: \", elevarCuadradoLambda(valor, 2))"
      ],
      "metadata": {
        "colab": {
          "base_uri": "https://localhost:8080/"
        },
        "id": "m1bdVspKA012",
        "outputId": "8fe995c0-a30e-4ce5-b0a6-babbfe94d619"
      },
      "execution_count": null,
      "outputs": [
        {
          "output_type": "stream",
          "name": "stdout",
          "text": [
            "Num: 3\n",
            "Cuadrado:  9\n"
          ]
        }
      ]
    },
    {
      "cell_type": "code",
      "source": [
        "serie = [5,4,3,2,6,7]\n",
        "resp = map(lambda x: x**2, serie)\n",
        "print(list(resp))\n",
        "\n",
        "resp2 = map(elevarCuadrado, serie)\n",
        "print(list(resp2))"
      ],
      "metadata": {
        "colab": {
          "base_uri": "https://localhost:8080/"
        },
        "id": "TCugbqxbA7Om",
        "outputId": "e7f0c456-d9a6-45a9-bd36-b1b57970af39"
      },
      "execution_count": null,
      "outputs": [
        {
          "output_type": "stream",
          "name": "stdout",
          "text": [
            "[25, 16, 9, 4, 36, 49]\n",
            "[25, 16, 9, 4, 36, 49]\n"
          ]
        }
      ]
    },
    {
      "cell_type": "markdown",
      "source": [
        "Ejercicio: obtener la raiz cuadrada de una serie de numeros fijos Tarea."
      ],
      "metadata": {
        "id": "QO5aHl3cC-d6"
      }
    },
    {
      "cell_type": "code",
      "source": [
        "def raizCuadrada(base, exponente=0.5):\n",
        "  return base**exponente\n",
        "\n",
        "\n",
        "serie = [5,4,3,2,6,7,25]\n",
        "resp = map(raizCuadrada, serie)\n",
        "print(list(resp))\n"
      ],
      "metadata": {
        "colab": {
          "base_uri": "https://localhost:8080/"
        },
        "id": "S6eI7q7cDHnB",
        "outputId": "03f0d240-6ac8-4bb5-f11a-a03e3395f763"
      },
      "execution_count": null,
      "outputs": [
        {
          "output_type": "stream",
          "name": "stdout",
          "text": [
            "[2.23606797749979, 2.0, 1.7320508075688772, 1.4142135623730951, 2.449489742783178, 2.6457513110645907, 5.0]\n"
          ]
        }
      ]
    },
    {
      "cell_type": "markdown",
      "source": [
        "Ejercicios con funciones preconstruidas en python."
      ],
      "metadata": {
        "id": "xoqoOAqzbmYn"
      }
    },
    {
      "cell_type": "markdown",
      "source": [
        "MAP"
      ],
      "metadata": {
        "id": "_G2aLoF2qD1H"
      }
    },
    {
      "cell_type": "code",
      "source": [
        "numeros = [1,2,3,4,5,6,7,8,9]\n",
        "print(list(map(lambda n: n*2, numeros)))"
      ],
      "metadata": {
        "id": "ShChw7bkbuuP",
        "outputId": "c5ff5a0e-6f4f-4db2-cf9f-767ae4400b55",
        "colab": {
          "base_uri": "https://localhost:8080/"
        }
      },
      "execution_count": null,
      "outputs": [
        {
          "output_type": "stream",
          "name": "stdout",
          "text": [
            "[2, 4, 6, 8, 10, 12, 14, 16, 18]\n"
          ]
        }
      ]
    },
    {
      "cell_type": "code",
      "source": [
        "numeros = [1,2,3,4,5,6,7,8,9,10]\n",
        "ntabla = int(input(\"Tabla:\"))\n",
        "print(list(map(lambda n: n*ntabla, numeros))) #tabla de multiplicar"
      ],
      "metadata": {
        "id": "eo10MruhcMsv",
        "outputId": "f27351e3-a50c-4a2f-af77-f78c4e693050",
        "colab": {
          "base_uri": "https://localhost:8080/"
        }
      },
      "execution_count": null,
      "outputs": [
        {
          "output_type": "stream",
          "name": "stdout",
          "text": [
            "Tabla:7\n",
            "[7, 14, 21, 28, 35, 42, 49, 56, 63, 70]\n"
          ]
        }
      ]
    },
    {
      "cell_type": "markdown",
      "source": [
        "FILTER"
      ],
      "metadata": {
        "id": "XaiNKlJJdElo"
      }
    },
    {
      "cell_type": "code",
      "source": [
        "numeros = [1,2,3,4,5,6,7,8,9,10]\n",
        "print(\"pares: \", list(filter(lambda n: n%2==0, numeros))) #obtener solo los numeros pares\n",
        "print(\"impares: \", list(filter(lambda n: n%2!=0, numeros))) # obtener solo los numeros impares"
      ],
      "metadata": {
        "id": "OUh6f1v7dH_h",
        "outputId": "affb6f3b-b022-4cef-dd66-a3b293aeceb9",
        "colab": {
          "base_uri": "https://localhost:8080/"
        }
      },
      "execution_count": null,
      "outputs": [
        {
          "output_type": "stream",
          "name": "stdout",
          "text": [
            "pares:  [2, 4, 6, 8, 10]\n",
            "impares:  [1, 3, 5, 7, 9]\n"
          ]
        }
      ]
    },
    {
      "cell_type": "code",
      "source": [
        "notas = [6,7,4,8,9,10,2,3,4]\n",
        "print(\"Aprobados: \", list(filter(lambda n: n>=6, notas)))\n",
        "print(\"Reprobados: \", list(filter(lambda n: n<=6, notas)))"
      ],
      "metadata": {
        "id": "JrhvER2ZeLW_",
        "outputId": "9290176e-9913-4421-b565-eddf0ea22691",
        "colab": {
          "base_uri": "https://localhost:8080/"
        }
      },
      "execution_count": null,
      "outputs": [
        {
          "output_type": "stream",
          "name": "stdout",
          "text": [
            "Aprobados:  [6, 7, 8, 9, 10]\n",
            "Reprobados:  [6, 4, 2, 3, 4]\n"
          ]
        }
      ]
    },
    {
      "cell_type": "markdown",
      "source": [
        "REDUCE"
      ],
      "metadata": {
        "id": "oukGHtNQfGOo"
      }
    },
    {
      "cell_type": "code",
      "source": [
        "from functools import reduce\n",
        "numeros = [7,8,9,10]\n",
        "print(\"Suma: \", reduce(lambda n, acum: n+acum, numeros))"
      ],
      "metadata": {
        "id": "qjFLlc8tfItn",
        "outputId": "3b0b715f-b451-4fa5-9ee0-3ed1d4648df8",
        "colab": {
          "base_uri": "https://localhost:8080/"
        }
      },
      "execution_count": null,
      "outputs": [
        {
          "output_type": "stream",
          "name": "stdout",
          "text": [
            "Suma:  34\n"
          ]
        }
      ]
    },
    {
      "cell_type": "code",
      "source": [
        "numeros = [7,8,9,10,5,1]\n",
        "print(\"Num Mayor: \", reduce(lambda n, mayor: n if n>mayor else mayor, numeros))\n",
        "print(\"Num Menor: \", reduce(lambda n, menor: n if n<menor else menor, numeros))\n"
      ],
      "metadata": {
        "id": "8VWMbu1gfls_",
        "outputId": "80acced6-b77a-410e-d0c2-32a4330e70a5",
        "colab": {
          "base_uri": "https://localhost:8080/"
        }
      },
      "execution_count": null,
      "outputs": [
        {
          "output_type": "stream",
          "name": "stdout",
          "text": [
            "Num Mayor:  10\n",
            "Num Menor:  1\n"
          ]
        }
      ]
    },
    {
      "cell_type": "markdown",
      "source": [
        "TUPLAS"
      ],
      "metadata": {
        "id": "GB2KPGKagu0Y"
      }
    },
    {
      "cell_type": "code",
      "source": [
        "numeros = (5,8,7,9,5,4,7)\n",
        "print(\"Tupla: \", numeros, \"Primer: \", numeros[0], \"ultimos: \", numeros[-1],\n",
        "\"Rango: 2-6 \", numeros[2:6])"
      ],
      "metadata": {
        "id": "qW0A9nyxgI-x",
        "outputId": "51b5cb5f-5e0d-446e-d620-3fff4b318273",
        "colab": {
          "base_uri": "https://localhost:8080/"
        }
      },
      "execution_count": null,
      "outputs": [
        {
          "output_type": "stream",
          "name": "stdout",
          "text": [
            "Tupla:  (5, 8, 7, 9, 5, 4, 7) Primer:  5 ultimos:  7 Rango: 2-6  (7, 9, 5, 4)\n"
          ]
        }
      ]
    },
    {
      "cell_type": "code",
      "source": [
        "semana = (\"domingo\", \"lunes\", \"martes\", \"miercoles\", \"jueves\", \"viernes\", \"sabado\")\n",
        "print(\"Primer dia: \",semana[0], \"; Cuantas veces repite domingo: \",semana.count(\"domingo\"), \"; dias de la seman: \", len(semana))\n"
      ],
      "metadata": {
        "id": "_R2UEP9Vhp9X",
        "outputId": "79fdb4d7-c9be-43e9-cf64-7c76c714e24a",
        "colab": {
          "base_uri": "https://localhost:8080/"
        }
      },
      "execution_count": null,
      "outputs": [
        {
          "output_type": "stream",
          "name": "stdout",
          "text": [
            "Primer dia:  domingo ; Cuantas veces repite domingo:  1 ; dias de la seman:  7\n"
          ]
        }
      ]
    },
    {
      "cell_type": "code",
      "source": [
        "import datetime\n",
        "hoy = datetime.date.today()\n",
        "dia = hoy.day\n",
        "mes = hoy.month\n",
        "year = hoy.year\n",
        "dia_semana = hoy.isoweekday()\n",
        "\n",
        "semana = (\"domingo\", \"lunes\", \"martes\", \"miercoles\", \"jueves\", \"viernes\", \"sabado\")\n",
        "meses = (\"enero\", \"febrero\", \"marzo\", \"abril\", \"mayo\", \"junio\", \"julio\", \"agosto\", \"septiembre\",\n",
        "\"octubre\", \"noviembre\", \"diciembre\")\n",
        "\n",
        "print(semana[dia_semana], dia, \" de \", meses[mes], \" del \", year)"
      ],
      "metadata": {
        "id": "P49AYO60i6a3",
        "outputId": "059adba2-04bf-465d-81a2-24fbf50d2c8f",
        "colab": {
          "base_uri": "https://localhost:8080/"
        }
      },
      "execution_count": null,
      "outputs": [
        {
          "output_type": "stream",
          "name": "stdout",
          "text": [
            "lunes 29  de  agosto  del  2024\n"
          ]
        }
      ]
    },
    {
      "cell_type": "code",
      "source": [
        "tuplas = (\"lius\",\"juan\")\n",
        "print(tuplas)     #Tulas son inmutables, no puede cambiar su valor.\n",
        "\n",
        "listas = [\"lius\",\"juan\"]\n",
        "listas[0] =\"pedro\"\n",
        "print(listas)"
      ],
      "metadata": {
        "id": "L9t4u8jslEAh",
        "outputId": "4b8d4d95-b6d0-4107-b592-a5f9b953fbe8",
        "colab": {
          "base_uri": "https://localhost:8080/"
        }
      },
      "execution_count": null,
      "outputs": [
        {
          "output_type": "stream",
          "name": "stdout",
          "text": [
            "('lius', 'juan')\n",
            "['pedro', 'juan']\n"
          ]
        }
      ]
    },
    {
      "cell_type": "markdown",
      "source": [
        "LISTAS"
      ],
      "metadata": {
        "id": "YBdCGBPNl81O"
      }
    },
    {
      "cell_type": "code",
      "source": [
        "listas = [5,8,7,9, \"luis\", \"jonathan\", \"ramon\"]\n",
        "print(listas, listas[-1])"
      ],
      "metadata": {
        "id": "HA63Qd5Hl-HP",
        "outputId": "24afbffd-2b3c-4d38-a898-23d16ad113a6",
        "colab": {
          "base_uri": "https://localhost:8080/"
        }
      },
      "execution_count": null,
      "outputs": [
        {
          "output_type": "stream",
          "name": "stdout",
          "text": [
            "[5, 8, 7, 9, 'luis', 'jonathan', 'ramon'] ramon\n"
          ]
        }
      ]
    },
    {
      "cell_type": "code",
      "source": [
        "def obtenerNota(nota, eval):\n",
        "  return eval[1]*0.3 + nota"
      ],
      "metadata": {
        "id": "xl-Ml9QOnLeP"
      },
      "execution_count": null,
      "outputs": []
    },
    {
      "cell_type": "code",
      "source": [
        "matriz = [ [\"Lab1\", 8],[\"lab2\",9], [\"parcial\", 8] ]\n",
        "reduce(obtenerNota, matriz, 0)"
      ],
      "metadata": {
        "id": "kkeCTwsHmTyR",
        "outputId": "5d99864d-a152-407f-969a-51415343247b",
        "colab": {
          "base_uri": "https://localhost:8080/"
        }
      },
      "execution_count": null,
      "outputs": [
        {
          "output_type": "execute_result",
          "data": {
            "text/plain": [
              "7.5"
            ]
          },
          "metadata": {},
          "execution_count": 52
        }
      ]
    },
    {
      "cell_type": "code",
      "source": [
        "#\n",
        "numeros = []\n",
        "for i in range(1,10):\n",
        "  numeros.append(int(input(\"num\" +str(i)+\":\")))\n",
        "num = int(input(\"num a buscar\"))\n",
        "print(\"Serie: \", numeros, \"el número\", num,\"se repite\" , numeros.count(num))\n",
        "\n",
        "nums= numeros.reverse()\n",
        "print(nums)"
      ],
      "metadata": {
        "id": "EdG8oYOIp0iT"
      },
      "execution_count": null,
      "outputs": []
    },
    {
      "cell_type": "code",
      "source": [
        "numeros = [1,5,2,6,2,1,4]\n",
        "numeros.sort()\n",
        "numeros.reverse()\n",
        "print(numeros)\n"
      ],
      "metadata": {
        "id": "TJQeKqmDp1pT"
      },
      "execution_count": null,
      "outputs": []
    },
    {
      "cell_type": "markdown",
      "source": [
        "DICCIONARIOS JSON"
      ],
      "metadata": {
        "id": "7LRXjEAnp5_k"
      }
    },
    {
      "cell_type": "code",
      "source": [
        "datos = {\n",
        "    \"codigo\":\"USIS018804\",\n",
        "    \"nombre\":\"Luis Hernandez\",\n",
        "    \"materias\":[\n",
        "        {\"codigo\":\"611\",\"nombre\":\"Programacion III\",\"notas\":{\n",
        "            \"c1\":{\"lab1\":8,\"lab2\":9,\"parcial\":10},\n",
        "            \"c2\":{\"lab1\":10,\"lab2\":9,\"parcial\":10},\n",
        "            \"c3\":{\"lab1\":4,\"lab2\":5,\"parcial\":8}\n",
        "            }\n",
        "         },\n",
        "        {\"codigo\":\"612\",\"nombre\":\"Base de Datos\"}\n",
        "    ]\n",
        "}\n",
        "print(datos[\"nombre\"], datos[\"materias\"][0][\"nombre\"], datos[\"materias\"][0][\"notas\"][\"c1\"])"
      ],
      "metadata": {
        "id": "6ZX54qB2p8t7"
      },
      "execution_count": null,
      "outputs": []
    },
    {
      "cell_type": "markdown",
      "source": [
        "EJERCICIO ESTRUCTURAS DE CONTROL IF: Solicitar al usuario la edad y determinar su clasificacion."
      ],
      "metadata": {
        "id": "yuCkluliF2iS"
      }
    },
    {
      "cell_type": "code",
      "source": [
        "edad = int(input(\"edad: \"))\n",
        "if edad>17:\n",
        "   print(\"Bienvenido al mundo de las responsabilidades\")"
      ],
      "metadata": {
        "colab": {
          "base_uri": "https://localhost:8080/"
        },
        "id": "FTgDXbG8C2ga",
        "outputId": "446ff3bb-4c6a-4cb3-a434-34b71d7bf956"
      },
      "execution_count": null,
      "outputs": [
        {
          "output_type": "stream",
          "name": "stdout",
          "text": [
            "edad: 19\n",
            "Bienvenido al mundo de las responsabilidades\n"
          ]
        }
      ]
    },
    {
      "cell_type": "code",
      "source": [
        "continuar = \"s\"\n",
        "while continuar==\"s\":\n",
        "  edad = int(input(\"edad: \"))\n",
        "  if edad<=-1:\n",
        "    print(\"no as nacido\")\n",
        "  elif edad<=3:\n",
        "    print(\"eres un bebe\")\n",
        "  elif edad<=12:\n",
        "    print(\"eres un niño\")\n",
        "  elif edad<18:\n",
        "    print(\"eres un adolescente\")\n",
        "  elif edad<65:\n",
        "    print(\"eres un adulto\")\n",
        "  elif edad<85:\n",
        "    print(\"eres un adulto mayor\")\n",
        "  else:\n",
        "    print(\"Larga vida\")\n",
        "  continuar = input(\"continuar s,sino cualquier tecla: \")"
      ],
      "metadata": {
        "colab": {
          "base_uri": "https://localhost:8080/"
        },
        "id": "JMSkXA0WNSCk",
        "outputId": "bce8c956-5260-48c4-9460-2b023c169dde"
      },
      "execution_count": null,
      "outputs": [
        {
          "name": "stdout",
          "output_type": "stream",
          "text": [
            "edad: 4\n",
            "eres un niño\n",
            "continuar s,sino cualquier tecla: s\n",
            "edad: 6\n",
            "eres un niño\n",
            "continuar s,sino cualquier tecla: gh\n"
          ]
        }
      ]
    },
    {
      "cell_type": "code",
      "source": [
        "numero = float(input(\"Ingrese un número: \"))\n",
        "if numero > 0:\n",
        "    print(\"El número es positivo.\")\n",
        "elif numero < 0:\n",
        "    print(\"El número es negativo.\")\n",
        "else:\n",
        "    print(\"El número es cero\")"
      ],
      "metadata": {
        "id": "C3cUDOoGKIoC"
      },
      "execution_count": null,
      "outputs": []
    },
    {
      "cell_type": "code",
      "source": [
        "continuar = \"s\"\n",
        "while continuar==\"s\":\n",
        "  tabla = int(input(\"tabla: \"))\n",
        "  for i in range(1,11):\n",
        "    print(tabla, \"x\", i, \"=\", tabla*i)\n",
        "  continuar = input(\"continuar s, sino cualquier tecla: \")"
      ],
      "metadata": {
        "id": "hgwoDjpRPA28",
        "colab": {
          "base_uri": "https://localhost:8080/"
        },
        "outputId": "f75a205f-bad7-4755-9910-f533b5f5886b"
      },
      "execution_count": null,
      "outputs": [
        {
          "name": "stdout",
          "output_type": "stream",
          "text": [
            "tabla: 4\n",
            "4 x 1 = 4\n",
            "4 x 2 = 8\n",
            "4 x 3 = 12\n",
            "4 x 4 = 16\n",
            "4 x 5 = 20\n",
            "4 x 6 = 24\n",
            "4 x 7 = 28\n",
            "4 x 8 = 32\n",
            "4 x 9 = 36\n",
            "4 x 10 = 40\n",
            "continuar s, sino cualquier tecla: y\n"
          ]
        }
      ]
    },
    {
      "cell_type": "markdown",
      "source": [
        "TAREA DE PYTHON----- Miercoles 21-08-24\n",
        "\n",
        "1- Calcular sobre el sueldo las deducciones por ley ISSS (3%), AFP(6.25%), ISR(Según tabla) e imprima el total deducciones y sueldo neto."
      ],
      "metadata": {
        "id": "ktJZuFIpqOEb"
      }
    },
    {
      "cell_type": "code",
      "source": [],
      "metadata": {
        "id": "Bb551dW9qSEq"
      },
      "execution_count": null,
      "outputs": []
    },
    {
      "cell_type": "markdown",
      "source": [
        "2- Calcular el valor a pagar según el número de metros consumidos de agua potable"
      ],
      "metadata": {
        "id": "eGHWEgjrqWs6"
      }
    },
    {
      "cell_type": "code",
      "source": [
        "def calcular_tarifa_agua(metros_consumidos):\n",
        "    if metros_consumidos <= 0:\n",
        "        return \"No se puede calcular con un valor negativo o cero.\"\n",
        "    elif metros_consumidos <= 18:\n",
        "        return 6.00\n",
        "    elif 19 <= metros_consumidos <= 28:\n",
        "        return 6.00 + (metros_consumidos - 18) * 0.45\n",
        "    else:\n",
        "        return 6.00 + (28 - 18) * 0.45 + (metros_consumidos - 28) * 0.65\n",
        "\n",
        "# Solicitar al usuario el número de metros consumidos\n",
        "try:\n",
        "    metros_consumidos = float(input(\"Ingresa el número de metros de agua consumidos: \"))\n",
        "    tarifa = calcular_tarifa_agua(metros_consumidos)\n",
        "\n",
        "    if isinstance(tarifa, str):\n",
        "        print(tarifa)\n",
        "    else:\n",
        "        print(f\"El total del valor a pagar es: ${tarifa:.2f}\")\n",
        "\n",
        "except ValueError:\n",
        "    print(\"Por favor, ingresa un número válido.\")\n",
        "\n"
      ],
      "metadata": {
        "id": "jMPA_8MQqZXz"
      },
      "execution_count": null,
      "outputs": []
    },
    {
      "cell_type": "markdown",
      "source": [
        "3- Desarrolle la tabla de meses acumulados a n meses. Si puede encontrar la fórmula matemática para evitar ciclos."
      ],
      "metadata": {
        "id": "_Fn8yAjHqgAj"
      }
    },
    {
      "cell_type": "code",
      "source": [
        "def meses_acumulados(n):\n",
        "    return [(i * (i + 1)) // 2 for i in range(1, n + 1)]\n",
        "\n",
        "while True:\n",
        "    try:\n",
        "        n = int(input(\"Ingresa el número de meses para calcular la tabla acumulada: \"))\n",
        "        if n > 0:\n",
        "            break\n",
        "        else:\n",
        "            print(\"Por favor, ingresa un número positivo.\")\n",
        "    except ValueError:\n",
        "        print(\"Por favor, ingresa un número entero válido.\")\n",
        "\n",
        "tabla_acumulada = meses_acumulados(n)\n",
        "\n",
        "print(f\"\\nTabla de meses acumulados para {n} meses:\")\n",
        "for i, valor in enumerate(tabla_acumulada, start=1):\n",
        "    print(f\"Mes {i}: {valor}\")\n"
      ],
      "metadata": {
        "id": "aY0pNFcRqg_3"
      },
      "execution_count": null,
      "outputs": []
    },
    {
      "cell_type": "markdown",
      "source": [
        "4- Conversores: (40%) (10 ítems como mínimo por cada uno) • Monedas (Resuelto en clases) • Longitud • Masa • Almacenamiento • Tiempo • Volumen • Área • Manzanas • Tareas"
      ],
      "metadata": {
        "id": "bIZHuv2xqj5q"
      }
    },
    {
      "cell_type": "markdown",
      "source": [
        "LONGITUD"
      ],
      "metadata": {
        "id": "4V__C9ZHrrJt"
      }
    },
    {
      "cell_type": "code",
      "source": [
        "#Longitud\n",
        "def convertir_longitud(valor, unidad_origen, unidad_destino):\n",
        "    unidades = {\n",
        "        'metros': 1.0,\n",
        "        'kilometros': 1000.0,\n",
        "        'centimetros': 0.01,\n",
        "        'milimetros': 0.001,\n",
        "        'micrometros': 1e-6,\n",
        "        'nanometros': 1e-9,\n",
        "        'millas': 1609.34,\n",
        "        'yardas': 0.9144,\n",
        "        'pies': 0.3048,\n",
        "        'pulgadas': 0.0254,\n",
        "    }\n",
        "\n",
        "    try:\n",
        "        factor_origen = unidades[unidad_origen]\n",
        "        factor_destino = unidades[unidad_destino]\n",
        "        return valor * factor_origen / factor_destino\n",
        "    except KeyError:\n",
        "        raise ValueError(\"Unidad de origen o destino no reconocida.\")\n",
        "\n",
        "def es_flotante(valor):\n",
        "    try:\n",
        "        float(valor)\n",
        "        return True\n",
        "    except ValueError:\n",
        "        return False\n",
        "\n",
        "def es_alfabetico(texto):\n",
        "    return bool(re.match(\"^[a-zA-Z]+$\", texto))\n",
        "\n",
        "try:\n",
        "    # Validación solo numeros\n",
        "    valor_input = input(\"Ingrese el valor a convertir: \")\n",
        "    if not es_flotante(valor_input):\n",
        "        raise ValueError(\"Debe ingresar numeros válidos.\")\n",
        "    valor = float(valor_input)\n",
        "\n",
        "    # Validación escribir letras, no numeros\n",
        "    unidad_origen = input(\"Digite la unidad de origen: \").strip().lower()\n",
        "    if not es_alfabetico(unidad_origen):\n",
        "        raise ValueError(\"La unidad de origen debe contener solo letras.\")\n",
        "\n",
        "    unidad_destino = input(\"Digite la unidad de destino: \").strip().lower()\n",
        "    if not es_alfabetico(unidad_destino):\n",
        "        raise ValueError(\"La unidad de destino debe contener solo letras.\")\n",
        "\n",
        "    resultado = convertir_longitud(valor, unidad_origen, unidad_destino)\n",
        "    print(f\"{valor} {unidad_origen} son {resultado} {unidad_destino}\")\n",
        "\n",
        "except ValueError as e:\n",
        "    print(f\"Error: {e}\")\n"
      ],
      "metadata": {
        "id": "gooW-FiWqnmi"
      },
      "execution_count": null,
      "outputs": []
    },
    {
      "cell_type": "markdown",
      "source": [
        "ALMACENAMIENTO"
      ],
      "metadata": {
        "id": "0GURFKU7qwRy"
      }
    },
    {
      "cell_type": "code",
      "source": [
        "#almacenamiento\n",
        "def convertir_almacenamiento(valor, unidad_origen, unidad_destino):\n",
        "    unidades = {\n",
        "        'byte': 1,\n",
        "        'kilobyte': 0.001,\n",
        "        'megabyte': 0.000001,\n",
        "        'gigabyte': 0.000000001,\n",
        "        'terabyte': 0.000000000001,\n",
        "        'petabyte': 0.000000000000001,\n",
        "        'exabyte': 0.000000000000000001,\n",
        "        'zettabyte': 0.000000000000000000001,\n",
        "        'yottabyte': 0.000000000000000000000001,\n",
        "        'bit': 0.125\n",
        "    }\n",
        "\n",
        "    try:\n",
        "        factor_origen = unidades[unidad_origen]\n",
        "        factor_destino = unidades[unidad_destino]\n",
        "        return valor * factor_origen / factor_destino\n",
        "    except KeyError:\n",
        "        raise ValueError(\"Unidad de origen o destino no reconocida.\")\n",
        "\n",
        "def es_flotante(valor):\n",
        "    try:\n",
        "        float(valor)\n",
        "        return True\n",
        "    except ValueError:\n",
        "        return False\n",
        "\n",
        "def es_alfabetico(texto):\n",
        "    return bool(re.match(\"^[a-zA-Z]+$\", texto))\n",
        "\n",
        "try:\n",
        "    # Validación del valor como número flotante\n",
        "    valor_input = input(\"Ingrese el valor a convertir: \")\n",
        "    if not es_flotante(valor_input):\n",
        "        raise ValueError(\"Debe ingresar un número válido.\")\n",
        "    valor = float(valor_input)\n",
        "\n",
        "    # Validación de las unidades como texto sin números\n",
        "    unidad_origen = input(\"Digite la unidad de origen: \").strip().lower()\n",
        "    if not es_alfabetico(unidad_origen):\n",
        "        raise ValueError(\"La unidad de origen debe contener solo letras.\")\n",
        "\n",
        "    unidad_destino = input(\"Digite la unidad de destino: \").strip().lower()\n",
        "    if not es_alfabetico(unidad_destino):\n",
        "        raise ValueError(\"La unidad de destino debe contener solo letras.\")\n",
        "\n",
        "    resultado = convertir_almacenamiento(valor, unidad_origen, unidad_destino)\n",
        "    print(f\"{valor} {unidad_origen} son {resultado} {unidad_destino}\")\n",
        "\n",
        "except ValueError as e:\n",
        "    print(f\"Error: {e}\")\n"
      ],
      "metadata": {
        "id": "KgdKHrJsqyZL"
      },
      "execution_count": null,
      "outputs": []
    },
    {
      "cell_type": "markdown",
      "source": [
        "MONEDA"
      ],
      "metadata": {
        "id": "1FfB3STJq6BZ"
      }
    },
    {
      "cell_type": "code",
      "source": [
        "#MONEDAS\n",
        "import re\n",
        "\n",
        "def convertir_moneda(valor, moneda_origen, moneda_destino):\n",
        "    tasas_de_cambio = {\n",
        "        'dolar': 1,\n",
        "        'euro': 0.92,\n",
        "        'quetzal': 7.86,\n",
        "        'lempira': 24.62,\n",
        "        'cordoba': 36.56,\n",
        "        'colonsv': 8.75,\n",
        "        'coloncr': 535.14,\n",
        "        'yenes': 145.52,\n",
        "        'rupias indias': 83.32,\n",
        "        'libras esterlinas': 0.79,\n",
        "    }\n",
        "\n",
        "    try:\n",
        "        tasa_origen = tasas_de_cambio[moneda_origen]\n",
        "        tasa_destino = tasas_de_cambio[moneda_destino]\n",
        "        return valor * (tasa_origen / tasa_destino)\n",
        "    except KeyError:\n",
        "        raise ValueError(\"Moneda de origen o destino no reconocida.\")\n",
        "\n",
        "def es_flotante(valor):\n",
        "    try:\n",
        "        float(valor)\n",
        "        return True\n",
        "    except ValueError:\n",
        "        return False\n",
        "\n",
        "def es_alfabetico(texto):\n",
        "    return bool(re.match(\"^[a-zA-Z\\s]+$\", texto))\n",
        "\n",
        "try:\n",
        "    # Validación del valor como número flotante\n",
        "    valor_input = input(\"Ingrese el valor a convertir: \")\n",
        "    if not es_flotante(valor_input):\n",
        "        raise ValueError(\"Debe ingresar un número válido.\")\n",
        "    valor = float(valor_input)\n",
        "\n",
        "    # Validación de las monedas como texto sin números\n",
        "    moneda_origen = input(\"Ingrese la moneda de origen: \").strip().lower()\n",
        "    if not es_alfabetico(moneda_origen):\n",
        "        raise ValueError(\"La moneda de origen debe contener solo letras y espacios.\")\n",
        "\n",
        "    moneda_destino = input(\"Ingrese la moneda de destino: \").strip().lower()\n",
        "    if not es_alfabetico(moneda_destino):\n",
        "        raise ValueError(\"La moneda de destino debe contener solo letras y espacios.\")\n",
        "\n",
        "    resultado = convertir_moneda(valor, moneda_origen, moneda_destino)\n",
        "    print(f\"{valor} {moneda_destino} son {resultado:.2f} {moneda_origen}\")\n",
        "\n",
        "except ValueError as e:\n",
        "    print(f\"Error: {e}\")\n"
      ],
      "metadata": {
        "id": "JlTuk85mq63J"
      },
      "execution_count": null,
      "outputs": []
    },
    {
      "cell_type": "markdown",
      "source": [
        "MASA"
      ],
      "metadata": {
        "id": "5o_gHnmvrDfi"
      }
    },
    {
      "cell_type": "code",
      "source": [
        "#Masa\n",
        "#{1, 0.453592, 453.592, 0.000453592, 453592, 453600000, 0.000446429, 0.0005, 0.0714286, 16}, //Masa\n",
        "def convertir_masa(valor, unidad_origen, unidad_destino):\n",
        "    unidades_de_masa = {\n",
        "        'libra': 1,\n",
        "        'kilogramo': 0.453592,\n",
        "        'gramo': 453.592,\n",
        "        'tonelada': 0.000453592,\n",
        "        'miligramo': 453592,\n",
        "        'microgramo': 453600000,\n",
        "        'tonelada larga': 0.000446429,\n",
        "        'tonelada corta': 0.0005,\n",
        "        'stone': 0.0714286,\n",
        "        'onza': 16\n",
        "    }\n",
        "\n",
        "    try:\n",
        "        tasa_origen_a_destino = unidades_de_masa[unidad_destino] / unidades_de_masa[unidad_origen]\n",
        "        resultado = valor * tasa_origen_a_destino\n",
        "        return round(resultado, 2)\n",
        "    except KeyError:\n",
        "        raise ValueError(\"Unidad de origen o destino no reconocida.\")\n",
        "\n",
        "def es_flotante(valor):\n",
        "    try:\n",
        "        float(valor)\n",
        "        return True\n",
        "    except ValueError:\n",
        "        return False\n",
        "\n",
        "def es_alfabetico(texto):\n",
        "    return bool(re.match(\"^[a-zA-Z\\s]+$\", texto))\n",
        "\n",
        "try:\n",
        "    # Validación del valor como número flotante\n",
        "    valor_input = input(\"Ingrese el valor a convertir: \")\n",
        "    if not es_flotante(valor_input):\n",
        "        raise ValueError(\"Debe ingresar un número válido.\")\n",
        "    valor = float(valor_input)\n",
        "\n",
        "    # Validación de las unidades como texto sin números\n",
        "    unidad_origen = input(\"Ingrese la unidad de origen: \").strip().lower()\n",
        "    if not es_alfabetico(unidad_origen):\n",
        "        raise ValueError(\"La unidad de origen debe contener solo letras.\")\n",
        "\n",
        "    unidad_destino = input(\"Ingrese la unidad de destino: \").strip().lower()\n",
        "    if not es_alfabetico(unidad_destino):\n",
        "        raise ValueError(\"La unidad de destino debe contener solo letras.\")\n",
        "\n",
        "    resultado = convertir_masa(valor, unidad_origen, unidad_destino)\n",
        "    print(f\"{valor} {unidad_origen} son {resultado} {unidad_destino}\")\n",
        "\n",
        "except ValueError as e:\n",
        "    print(f\"Error: {e}\")\n"
      ],
      "metadata": {
        "id": "v71CY50XrEoi"
      },
      "execution_count": null,
      "outputs": []
    },
    {
      "cell_type": "markdown",
      "source": [
        "VOLUMEN"
      ],
      "metadata": {
        "id": "jMWt9bsOrOYd"
      }
    },
    {
      "cell_type": "code",
      "source": [
        "#Volumen\n",
        "#{1, 0.264172, 1.05669, 2.11338, 4.16667, 33.814, 67.628, 202.884, 0.001, 1000},\n",
        "def convertir_volumen(valor, unidad_origen, unidad_destino):\n",
        "    unidades_de_volumen = {\n",
        "        'litro': 1,\n",
        "        'galon usa': 0.264172,\n",
        "        'cuarto usa': 1.05669,\n",
        "        'pinta usa': 2.11338,\n",
        "        'taza usa': 4.16667,\n",
        "        'onza liquida': 33.814,\n",
        "        'cuchara usa':67.628 ,\n",
        "        'cucharadita usa': 202.884,\n",
        "        'metro cubico': 0.001,\n",
        "        'milimetro': 1000\n",
        "    }\n",
        "\n",
        "    try:\n",
        "        tasa_origen_a_destino = unidades_de_volumen[unidad_destino] / unidades_de_volumen[unidad_origen]\n",
        "        resultado = valor * tasa_origen_a_destino\n",
        "        return round(resultado, 2)\n",
        "    except KeyError:\n",
        "        raise ValueError(\"Unidad de origen o destino no reconocida.\")\n",
        "\n",
        "def es_flotante(valor):\n",
        "    try:\n",
        "        float(valor)\n",
        "        return True\n",
        "    except ValueError:\n",
        "        return False\n",
        "\n",
        "def es_alfabetico(texto):\n",
        "    return bool(re.match(\"^[a-zA-Z\\s]+$\", texto))\n",
        "\n",
        "try:\n",
        "    # Validación del valor como número flotante\n",
        "    valor_input = input(\"Ingrese el valor a convertir: \")\n",
        "    if not es_flotante(valor_input):\n",
        "        raise ValueError(\"Debe ingresar un número válido.\")\n",
        "    valor = float(valor_input)\n",
        "\n",
        "    # Validación de las unidades como texto sin números\n",
        "    unidad_origen = input(\"Ingrese la unidad de origen: \").strip().lower()\n",
        "    if not es_alfabetico(unidad_origen):\n",
        "        raise ValueError(\"La unidad de origen debe contener solo letras.\")\n",
        "\n",
        "    unidad_destino = input(\"Ingrese la unidad de destino: \").strip().lower()\n",
        "    if not es_alfabetico(unidad_destino):\n",
        "        raise ValueError(\"La unidad de destino debe contener solo letras.\")\n",
        "\n",
        "    resultado = convertir_volumen(valor, unidad_origen, unidad_destino)\n",
        "    print(f\"{valor} {unidad_origen} son {resultado} {unidad_destino}\")\n",
        "\n",
        "except ValueError as e:\n",
        "    print(f\"Error: {e}\")"
      ],
      "metadata": {
        "id": "rUWOWVf9rPPs"
      },
      "execution_count": null,
      "outputs": []
    },
    {
      "cell_type": "markdown",
      "source": [
        "TIEMPO"
      ],
      "metadata": {
        "id": "qQt4-fpmrXMh"
      }
    },
    {
      "cell_type": "code",
      "source": [
        "#tiempo\n",
        "# {1, 60, 0.0166667, 0.000694444, 0.000099206, 0.000022831, 0.0000019026, 0.00000019026, 0.00000001903, 60000}, //Tiempo,\n",
        "def convertir_tiempo(valor, unidad_origen, unidad_destino):\n",
        "    unidades_de_tiempo = {\n",
        "        'minuto': 1,\n",
        "        'segundo': 60,\n",
        "        'hora': 0.0166667,\n",
        "        'dia': 0.000694444,\n",
        "        'semana': 0.000099206,\n",
        "        'mes': 0.000022831,\n",
        "        'año':0.0000019026 ,\n",
        "        'decada': 0.00000001903,\n",
        "        'siglo': 0.00000001903,\n",
        "        'milisegundo': 60000\n",
        "    }\n",
        "\n",
        "    try:\n",
        "        tasa_origen_a_destino = unidades_de_tiempo[unidad_destino] / unidades_de_tiempo[unidad_origen]\n",
        "        resultado = valor * tasa_origen_a_destino\n",
        "        return round(resultado, 2)\n",
        "    except KeyError:\n",
        "        raise ValueError(\"Unidad de origen o destino no reconocida.\")\n",
        "\n",
        "def es_flotante(valor):\n",
        "    try:\n",
        "        float(valor)\n",
        "        return True\n",
        "    except ValueError:\n",
        "        return False\n",
        "\n",
        "def es_alfabetico(texto):\n",
        "    return bool(re.match(\"^[a-zA-Z\\s]+$\", texto))\n",
        "\n",
        "try:\n",
        "    # Validación del valor como número flotante\n",
        "    valor_input = input(\"Ingrese el valor a convertir: \")\n",
        "    if not es_flotante(valor_input):\n",
        "        raise ValueError(\"Debe ingresar un número válido.\")\n",
        "    valor = float(valor_input)\n",
        "\n",
        "    # Validación de las unidades como texto sin números\n",
        "    unidad_origen = input(\"Ingrese la unidad de origen: \").strip().lower()\n",
        "    if not es_alfabetico(unidad_origen):\n",
        "        raise ValueError(\"La unidad de origen debe contener solo letras.\")\n",
        "\n",
        "    unidad_destino = input(\"Ingrese la unidad de destino: \").strip().lower()\n",
        "    if not es_alfabetico(unidad_destino):\n",
        "        raise ValueError(\"La unidad de destino debe contener solo letras.\")\n",
        "\n",
        "    resultado = convertir_tiempo(valor, unidad_origen, unidad_destino)\n",
        "    print(f\"{valor} {unidad_origen} son {resultado} {unidad_destino}\")\n",
        "\n",
        "except ValueError as e:\n",
        "    print(f\"Error: {e}\")"
      ],
      "metadata": {
        "id": "FHdDTa20rX5c"
      },
      "execution_count": null,
      "outputs": []
    },
    {
      "cell_type": "markdown",
      "source": [
        "AREA"
      ],
      "metadata": {
        "id": "pNE0EuRkrfzR"
      }
    },
    {
      "cell_type": "code",
      "source": [
        "#Area\n",
        "def convertir_area(valor, unidad_origen, unidad_destino):\n",
        "    unidades_de_area = {\n",
        "        'manzanas': 1,\n",
        "        'tareas': 16,\n",
        "        'metro cuadrado': 7000,\n",
        "        'vara cuadrada': 10000,\n",
        "        'yarda cuadrada':  8371.93,\n",
        "        'pie cuadrado': 75.207,\n",
        "        'hectareas': 0.70,\n",
        "        'acre':1.729738,\n",
        "        'milla cuadrada': 0.002702715,\n",
        "        'pie cuadrado': 75347.37\n",
        "    }\n",
        "\n",
        "    try:\n",
        "        tasa_origen_a_destino = unidades_de_area[unidad_destino] / unidades_de_area[unidad_origen]\n",
        "        resultado = valor * tasa_origen_a_destino\n",
        "        return round(resultado, 2)\n",
        "    except KeyError:\n",
        "        raise ValueError(\"Unidad de origen o destino no reconocida.\")\n",
        "\n",
        "def es_flotante(valor):\n",
        "    try:\n",
        "        float(valor)\n",
        "        return True\n",
        "    except ValueError:\n",
        "        return False\n",
        "\n",
        "def es_alfabetico(texto):\n",
        "    return bool(re.match(\"^[a-zA-Z\\s]+$\", texto))\n",
        "\n",
        "try:\n",
        "    # Validación del valor como número flotante\n",
        "    valor_input = input(\"Ingrese el valor a convertir: \")\n",
        "    if not es_flotante(valor_input):\n",
        "        raise ValueError(\"Debe ingresar un número válido.\")\n",
        "    valor = float(valor_input)\n",
        "\n",
        "    # Validación de las unidades como texto sin números\n",
        "    unidad_origen = input(\"Ingrese la unidad de origen: \").strip().lower()\n",
        "    if not es_alfabetico(unidad_origen):\n",
        "        raise ValueError(\"La unidad de origen debe contener solo letras.\")\n",
        "\n",
        "    unidad_destino = input(\"Ingrese la unidad de destino: \").strip().lower()\n",
        "    if not es_alfabetico(unidad_destino):\n",
        "        raise ValueError(\"La unidad de destino debe contener solo letras.\")\n",
        "\n",
        "    resultado = convertir_area(valor, unidad_origen, unidad_destino)\n",
        "    print(f\"{valor} {unidad_origen} son {resultado} {unidad_destino}\")\n",
        "\n",
        "except ValueError as e:\n",
        "    print(f\"Error: {e}\")"
      ],
      "metadata": {
        "id": "qv4QoJ-Ergmr"
      },
      "execution_count": null,
      "outputs": []
    }
  ]
}