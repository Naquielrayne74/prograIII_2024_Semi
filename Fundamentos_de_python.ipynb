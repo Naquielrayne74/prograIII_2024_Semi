{
  "nbformat": 4,
  "nbformat_minor": 0,
  "metadata": {
    "colab": {
      "provenance": [],
      "authorship_tag": "ABX9TyPraPdxosYq8s4kWm1V/QsC",
      "include_colab_link": true
    },
    "kernelspec": {
      "name": "python3",
      "display_name": "Python 3"
    },
    "language_info": {
      "name": "python"
    }
  },
  "cells": [
    {
      "cell_type": "markdown",
      "metadata": {
        "id": "view-in-github",
        "colab_type": "text"
      },
      "source": [
        "<a href=\"https://colab.research.google.com/github/Naquielrayne74/prograIII_2024_Semi/blob/main/Fundamentos_de_python.ipynb\" target=\"_parent\"><img src=\"https://colab.research.google.com/assets/colab-badge.svg\" alt=\"Open In Colab\"/></a>"
      ]
    },
    {
      "cell_type": "code",
      "execution_count": null,
      "metadata": {
        "colab": {
          "base_uri": "https://localhost:8080/"
        },
        "id": "xSykCy8-3gSg",
        "outputId": "553eb60d-adbd-4af4-bd38-1d19ba0a9796"
      },
      "outputs": [
        {
          "output_type": "stream",
          "name": "stdout",
          "text": [
            "hola mundo\n",
            "hola Nahun Martinez , inicial:  N M\n"
          ]
        }
      ],
      "source": [
        "print(\"hola mundo\")\n",
        "nombre = \"Nahun Martinez\"\n",
        "\n",
        "print(\"hola\", nombre, \", inicial: \", nombre[0], nombre[6])"
      ]
    },
    {
      "cell_type": "markdown",
      "source": [
        "EJERCICIO, crear un programa en python que sume dos numeros"
      ],
      "metadata": {
        "id": "eWcV8y1b9i6J"
      }
    },
    {
      "cell_type": "code",
      "source": [
        "num1 = 5\n",
        "num2 = 9.5\n",
        "resp = num1 + num2\n",
        "print(\"La suma es: \", resp)\n"
      ],
      "metadata": {
        "colab": {
          "base_uri": "https://localhost:8080/"
        },
        "id": "PolI1HGC9sX9",
        "outputId": "82d5f230-0c0b-4566-93dd-c98d766dcdb8"
      },
      "execution_count": null,
      "outputs": [
        {
          "output_type": "stream",
          "name": "stdout",
          "text": [
            "La suma es:  14.5\n"
          ]
        }
      ]
    },
    {
      "cell_type": "markdown",
      "source": [
        "EJERCICIO, crear un programa en python que sume dos numeros intriducidos por el usuario"
      ],
      "metadata": {
        "id": "r5td5JW-_uZh"
      }
    },
    {
      "cell_type": "code",
      "source": [
        "print(\"ingrese el primer numero\")\n",
        "num1 = float(input())\n",
        "\n",
        "print(\"ingrese el segundo numero\")\n",
        "num2 = float(input())\n",
        "\n",
        "resp = num1 + num2\n",
        "print(\"la suma es: \", resp)"
      ],
      "metadata": {
        "colab": {
          "base_uri": "https://localhost:8080/"
        },
        "id": "6qSaQMHV_3G6",
        "outputId": "e3841d56-6512-42e7-81e6-6bdda4c9ff92"
      },
      "execution_count": null,
      "outputs": [
        {
          "output_type": "stream",
          "name": "stdout",
          "text": [
            "ingrese el primer numero\n",
            "2\n",
            "ingrese el segundo numero\n",
            "4\n",
            "la suma es:  6.0\n"
          ]
        }
      ]
    },
    {
      "cell_type": "code",
      "source": [
        "#tipos de datos\n",
        "num1 = 5\n",
        "num2 = 5.9\n",
        "\n",
        "nombre = \"Nahun Martinez\"\n",
        "print(nombre[0:5], nombre[:5], nombre[-2], nombre[5:len(nombre)])\n",
        "\n",
        "estado = True\n",
        "print(estado)\n",
        "\n",
        "print(type(nombre), type(num1), type(num2), type(estado))\n"
      ],
      "metadata": {
        "colab": {
          "base_uri": "https://localhost:8080/"
        },
        "id": "KcG56ehrCHc-",
        "outputId": "42f3fe1e-44a1-4e48-95ce-a2cfeb49ef3e"
      },
      "execution_count": null,
      "outputs": [
        {
          "output_type": "stream",
          "name": "stdout",
          "text": [
            "Nahun Nahun e  Martinez\n"
          ]
        }
      ]
    },
    {
      "cell_type": "markdown",
      "source": [
        "EJERCICIO, cree un programa en python que lea un numero y determine si es par o impar."
      ],
      "metadata": {
        "id": "lam_Rg1uE54j"
      }
    },
    {
      "cell_type": "code",
      "source": [
        "num = int(input(\"ingrese un numero\"))\n",
        "if num % 2 == 0:\n",
        "  print (\"el numero es par\", num)\n",
        "else:\n",
        "  print(\"el numero es impar\")"
      ],
      "metadata": {
        "colab": {
          "base_uri": "https://localhost:8080/"
        },
        "id": "h97UGDmiFRLd",
        "outputId": "59d800df-696e-4101-f16c-79ec35c8b489"
      },
      "execution_count": null,
      "outputs": [
        {
          "output_type": "stream",
          "name": "stdout",
          "text": [
            "ingrese un numero1\n",
            "el numero es impar\n"
          ]
        }
      ]
    },
    {
      "cell_type": "markdown",
      "source": [
        "Conversor de Fahrenheit a Celsius"
      ],
      "metadata": {
        "id": "UaTMhGzzBNMy"
      }
    },
    {
      "cell_type": "code",
      "source": [
        "def fahrenheit_a_celsius(fahrenheit):\n",
        "    celsius = (fahrenheit - 32) * 5.0/9.0\n",
        "    return celsius\n",
        "fahrenheit = float(input(\"Introduce la temperatura en Fahrenheit: \"))\n",
        "celsius = fahrenheit_a_celsius(fahrenheit)\n",
        "print(f\"{fahrenheit} grados Fahrenheit son {celsius:.2f} grados Celsius.\")"
      ],
      "metadata": {
        "colab": {
          "base_uri": "https://localhost:8080/"
        },
        "id": "HU3QcxacBREz",
        "outputId": "80992ff3-a286-492c-ca81-0dc820d37022"
      },
      "execution_count": null,
      "outputs": [
        {
          "output_type": "stream",
          "name": "stdout",
          "text": [
            "Introduce la temperatura en Fahrenheit: 75\n",
            "75.0 grados Fahrenheit son 23.89 grados Celsius.\n"
          ]
        }
      ]
    },
    {
      "cell_type": "markdown",
      "source": [
        "Conversor [Fahrenheit y Celcius] a kelvin"
      ],
      "metadata": {
        "id": "VnqVeGWfBWUe"
      }
    },
    {
      "cell_type": "code",
      "source": [
        "def fahrenheit_a_kelvin(fahrenheit):\n",
        "    kelvin = (fahrenheit - 32) * 5.0/9.0 + 273.15\n",
        "    return kelvin\n",
        "\n",
        "def celsius_a_kelvin(celsius):\n",
        "    kelvin = celsius + 273.15\n",
        "    return kelvin\n",
        "\n",
        "escala = input(\"Introduce la escala de la temperatura (F para Fahrenheit, C para Celsius): \").strip().upper()\n",
        "temperatura = float(input(f\"Introduce la temperatura en {escala}: \"))\n",
        "\n",
        "if escala == 'F':\n",
        "    kelvin = fahrenheit_a_kelvin(temperatura)\n",
        "elif escala == 'C':\n",
        "    kelvin = celsius_a_kelvin(temperatura)\n",
        "else:\n",
        "    print(\"Escala no válida.\")\n",
        "    kelvin = None\n",
        "\n",
        "if kelvin is not None:\n",
        " print(f\"La temperatura en Kelvin es: {kelvin:.2f} K.\")"
      ],
      "metadata": {
        "colab": {
          "base_uri": "https://localhost:8080/"
        },
        "id": "2WfsCz6XBcxS",
        "outputId": "cc78ba94-0c80-4721-e845-9c92afde3ae6"
      },
      "execution_count": null,
      "outputs": [
        {
          "output_type": "stream",
          "name": "stdout",
          "text": [
            "Introduce la escala de la temperatura (F para Fahrenheit, C para Celsius): f\n",
            "Introduce la temperatura en F: 75\n",
            "La temperatura en Kelvin es: 297.04 K.\n"
          ]
        }
      ]
    },
    {
      "cell_type": "markdown",
      "source": [
        "Ejercicio: elevar un numero al cuadrado."
      ],
      "metadata": {
        "id": "oko4ui3jAkG7"
      }
    },
    {
      "cell_type": "code",
      "source": [
        "def elevarCuadrado(base=0, exponente=2):\n",
        "  return base**exponente"
      ],
      "metadata": {
        "id": "KTdZQCvwAnt6"
      },
      "execution_count": null,
      "outputs": []
    },
    {
      "cell_type": "code",
      "source": [
        "num = int(input(\"Num: \"))\n",
        "print(\"cuadrado; \", elevarCuadrado(num, 3))"
      ],
      "metadata": {
        "colab": {
          "base_uri": "https://localhost:8080/"
        },
        "id": "uUmzTdoyAq_L",
        "outputId": "cc116def-32cb-495b-e0ad-3da4bc2c1126"
      },
      "execution_count": null,
      "outputs": [
        {
          "output_type": "stream",
          "name": "stdout",
          "text": [
            "Num: 2\n",
            "cuadrado;  8\n"
          ]
        }
      ]
    },
    {
      "cell_type": "markdown",
      "source": [
        "USANDO FUNCIONES LAMBDA."
      ],
      "metadata": {
        "id": "XpUfCkyfAxrO"
      }
    },
    {
      "cell_type": "code",
      "source": [
        "elevarCuadradoLambda = lambda base, exponente: base**exponente\n",
        "\n",
        "valor = int(input(\"Num: \"))\n",
        "print(\"Cuadrado: \", elevarCuadradoLambda(valor, 2))"
      ],
      "metadata": {
        "colab": {
          "base_uri": "https://localhost:8080/"
        },
        "id": "m1bdVspKA012",
        "outputId": "8fe995c0-a30e-4ce5-b0a6-babbfe94d619"
      },
      "execution_count": null,
      "outputs": [
        {
          "output_type": "stream",
          "name": "stdout",
          "text": [
            "Num: 3\n",
            "Cuadrado:  9\n"
          ]
        }
      ]
    },
    {
      "cell_type": "code",
      "source": [
        "serie = [5,4,3,2,6,7]\n",
        "resp = map(lambda x: x**2, serie)\n",
        "print(list(resp))\n",
        "\n",
        "resp2 = map(elevarCuadrado, serie)\n",
        "print(list(resp2))"
      ],
      "metadata": {
        "colab": {
          "base_uri": "https://localhost:8080/"
        },
        "id": "TCugbqxbA7Om",
        "outputId": "e7f0c456-d9a6-45a9-bd36-b1b57970af39"
      },
      "execution_count": null,
      "outputs": [
        {
          "output_type": "stream",
          "name": "stdout",
          "text": [
            "[25, 16, 9, 4, 36, 49]\n",
            "[25, 16, 9, 4, 36, 49]\n"
          ]
        }
      ]
    },
    {
      "cell_type": "markdown",
      "source": [
        "Ejercicio: obtener la raiz cuadrada de una serie de numeros fijos Tarea."
      ],
      "metadata": {
        "id": "QO5aHl3cC-d6"
      }
    },
    {
      "cell_type": "code",
      "source": [
        "def raizCuadrada(base, exponente=0.5):\n",
        "  return base**exponente\n",
        "\n",
        "\n",
        "serie = [5,4,3,2,6,7,25]\n",
        "resp = map(raizCuadrada, serie)\n",
        "print(list(resp))\n"
      ],
      "metadata": {
        "colab": {
          "base_uri": "https://localhost:8080/"
        },
        "id": "S6eI7q7cDHnB",
        "outputId": "03f0d240-6ac8-4bb5-f11a-a03e3395f763"
      },
      "execution_count": 1,
      "outputs": [
        {
          "output_type": "stream",
          "name": "stdout",
          "text": [
            "[2.23606797749979, 2.0, 1.7320508075688772, 1.4142135623730951, 2.449489742783178, 2.6457513110645907, 5.0]\n"
          ]
        }
      ]
    },
    {
      "cell_type": "markdown",
      "source": [
        "EJERCICIO: obtener la raiz cuadrada de una serie de numeros fijos."
      ],
      "metadata": {
        "id": "2sjRvpk5bK9S"
      }
    },
    {
      "cell_type": "code",
      "source": [],
      "metadata": {
        "id": "IIobTk0Tbl7Y"
      },
      "execution_count": null,
      "outputs": []
    },
    {
      "cell_type": "markdown",
      "source": [
        "Ejercicios con funciones preconstruidas en python."
      ],
      "metadata": {
        "id": "xoqoOAqzbmYn"
      }
    },
    {
      "cell_type": "markdown",
      "source": [
        "MAP"
      ],
      "metadata": {
        "id": "_G2aLoF2qD1H"
      }
    },
    {
      "cell_type": "code",
      "source": [
        "numeros = [1,2,3,4,5,6,7,8,9]\n",
        "print(list(map(lambda n: n*2, numeros)))"
      ],
      "metadata": {
        "id": "ShChw7bkbuuP",
        "outputId": "c5ff5a0e-6f4f-4db2-cf9f-767ae4400b55",
        "colab": {
          "base_uri": "https://localhost:8080/"
        }
      },
      "execution_count": null,
      "outputs": [
        {
          "output_type": "stream",
          "name": "stdout",
          "text": [
            "[2, 4, 6, 8, 10, 12, 14, 16, 18]\n"
          ]
        }
      ]
    },
    {
      "cell_type": "code",
      "source": [
        "numeros = [1,2,3,4,5,6,7,8,9,10]\n",
        "ntabla = int(input(\"Tabla:\"))\n",
        "print(list(map(lambda n: n*ntabla, numeros))) #tabla de multiplicar"
      ],
      "metadata": {
        "id": "eo10MruhcMsv",
        "outputId": "f27351e3-a50c-4a2f-af77-f78c4e693050",
        "colab": {
          "base_uri": "https://localhost:8080/"
        }
      },
      "execution_count": null,
      "outputs": [
        {
          "output_type": "stream",
          "name": "stdout",
          "text": [
            "Tabla:7\n",
            "[7, 14, 21, 28, 35, 42, 49, 56, 63, 70]\n"
          ]
        }
      ]
    },
    {
      "cell_type": "markdown",
      "source": [
        "FILTER"
      ],
      "metadata": {
        "id": "XaiNKlJJdElo"
      }
    },
    {
      "cell_type": "code",
      "source": [
        "numeros = [1,2,3,4,5,6,7,8,9,10]\n",
        "print(\"pares: \", list(filter(lambda n: n%2==0, numeros))) #obtener solo los numeros pares\n",
        "print(\"impares: \", list(filter(lambda n: n%2!=0, numeros))) # obtener solo los numeros impares"
      ],
      "metadata": {
        "id": "OUh6f1v7dH_h",
        "outputId": "affb6f3b-b022-4cef-dd66-a3b293aeceb9",
        "colab": {
          "base_uri": "https://localhost:8080/"
        }
      },
      "execution_count": null,
      "outputs": [
        {
          "output_type": "stream",
          "name": "stdout",
          "text": [
            "pares:  [2, 4, 6, 8, 10]\n",
            "impares:  [1, 3, 5, 7, 9]\n"
          ]
        }
      ]
    },
    {
      "cell_type": "code",
      "source": [
        "notas = [6,7,4,8,9,10,2,3,4]\n",
        "print(\"Aprobados: \", list(filter(lambda n: n>=6, notas)))\n",
        "print(\"Reprobados: \", list(filter(lambda n: n<=6, notas)))"
      ],
      "metadata": {
        "id": "JrhvER2ZeLW_",
        "outputId": "9290176e-9913-4421-b565-eddf0ea22691",
        "colab": {
          "base_uri": "https://localhost:8080/"
        }
      },
      "execution_count": null,
      "outputs": [
        {
          "output_type": "stream",
          "name": "stdout",
          "text": [
            "Aprobados:  [6, 7, 8, 9, 10]\n",
            "Reprobados:  [6, 4, 2, 3, 4]\n"
          ]
        }
      ]
    },
    {
      "cell_type": "markdown",
      "source": [
        "REDUCE"
      ],
      "metadata": {
        "id": "oukGHtNQfGOo"
      }
    },
    {
      "cell_type": "code",
      "source": [
        "from functools import reduce\n",
        "numeros = [7,8,9,10]\n",
        "print(\"Suma: \", reduce(lambda n, acum: n+acum, numeros))"
      ],
      "metadata": {
        "id": "qjFLlc8tfItn",
        "outputId": "3b0b715f-b451-4fa5-9ee0-3ed1d4648df8",
        "colab": {
          "base_uri": "https://localhost:8080/"
        }
      },
      "execution_count": null,
      "outputs": [
        {
          "output_type": "stream",
          "name": "stdout",
          "text": [
            "Suma:  34\n"
          ]
        }
      ]
    },
    {
      "cell_type": "code",
      "source": [
        "numeros = [7,8,9,10,5,1]\n",
        "print(\"Num Mayor: \", reduce(lambda n, mayor: n if n>mayor else mayor, numeros))\n",
        "print(\"Num Menor: \", reduce(lambda n, menor: n if n<menor else menor, numeros))\n"
      ],
      "metadata": {
        "id": "8VWMbu1gfls_",
        "outputId": "80acced6-b77a-410e-d0c2-32a4330e70a5",
        "colab": {
          "base_uri": "https://localhost:8080/"
        }
      },
      "execution_count": null,
      "outputs": [
        {
          "output_type": "stream",
          "name": "stdout",
          "text": [
            "Num Mayor:  10\n",
            "Num Menor:  1\n"
          ]
        }
      ]
    },
    {
      "cell_type": "markdown",
      "source": [
        "TUPLAS"
      ],
      "metadata": {
        "id": "GB2KPGKagu0Y"
      }
    },
    {
      "cell_type": "code",
      "source": [
        "numeros = (5,8,7,9,5,4,7)\n",
        "print(\"Tupla: \", numeros, \"Primer: \", numeros[0], \"ultimos: \", numeros[-1],\n",
        "\"Rango: 2-6 \", numeros[2:6])"
      ],
      "metadata": {
        "id": "qW0A9nyxgI-x",
        "outputId": "51b5cb5f-5e0d-446e-d620-3fff4b318273",
        "colab": {
          "base_uri": "https://localhost:8080/"
        }
      },
      "execution_count": null,
      "outputs": [
        {
          "output_type": "stream",
          "name": "stdout",
          "text": [
            "Tupla:  (5, 8, 7, 9, 5, 4, 7) Primer:  5 ultimos:  7 Rango: 2-6  (7, 9, 5, 4)\n"
          ]
        }
      ]
    },
    {
      "cell_type": "code",
      "source": [
        "semana = (\"domingo\", \"lunes\", \"martes\", \"miercoles\", \"jueves\", \"viernes\", \"sabado\")\n",
        "print(\"Primer dia: \",semana[0], \"; Cuantas veces repite domingo: \",semana.count(\"domingo\"), \"; dias de la seman: \", len(semana))\n"
      ],
      "metadata": {
        "id": "_R2UEP9Vhp9X",
        "outputId": "79fdb4d7-c9be-43e9-cf64-7c76c714e24a",
        "colab": {
          "base_uri": "https://localhost:8080/"
        }
      },
      "execution_count": null,
      "outputs": [
        {
          "output_type": "stream",
          "name": "stdout",
          "text": [
            "Primer dia:  domingo ; Cuantas veces repite domingo:  1 ; dias de la seman:  7\n"
          ]
        }
      ]
    },
    {
      "cell_type": "code",
      "source": [
        "import datetime\n",
        "hoy = datetime.date.today()\n",
        "dia = hoy.day\n",
        "mes = hoy.month\n",
        "year = hoy.year\n",
        "dia_semana = hoy.isoweekday()\n",
        "\n",
        "semana = (\"domingo\", \"lunes\", \"martes\", \"miercoles\", \"jueves\", \"viernes\", \"sabado\")\n",
        "meses = (\"enero\", \"febrero\", \"marzo\", \"abril\", \"mayo\", \"junio\", \"julio\", \"agosto\", \"septiembre\",\n",
        "\"octubre\", \"noviembre\", \"diciembre\")\n",
        "\n",
        "print(semana[dia_semana], dia, \" de \", meses[mes], \" del \", year)"
      ],
      "metadata": {
        "id": "P49AYO60i6a3",
        "outputId": "059adba2-04bf-465d-81a2-24fbf50d2c8f",
        "colab": {
          "base_uri": "https://localhost:8080/"
        }
      },
      "execution_count": null,
      "outputs": [
        {
          "output_type": "stream",
          "name": "stdout",
          "text": [
            "lunes 29  de  agosto  del  2024\n"
          ]
        }
      ]
    },
    {
      "cell_type": "code",
      "source": [
        "tuplas = (\"lius\",\"juan\")\n",
        "print(tuplas)     #Tulas son inmutables, no puede cambiar su valor.\n",
        "\n",
        "listas = [\"lius\",\"juan\"]\n",
        "listas[0] =\"pedro\"\n",
        "print(listas)"
      ],
      "metadata": {
        "id": "L9t4u8jslEAh",
        "outputId": "4b8d4d95-b6d0-4107-b592-a5f9b953fbe8",
        "colab": {
          "base_uri": "https://localhost:8080/"
        }
      },
      "execution_count": null,
      "outputs": [
        {
          "output_type": "stream",
          "name": "stdout",
          "text": [
            "('lius', 'juan')\n",
            "['pedro', 'juan']\n"
          ]
        }
      ]
    },
    {
      "cell_type": "markdown",
      "source": [
        "LISTAS"
      ],
      "metadata": {
        "id": "YBdCGBPNl81O"
      }
    },
    {
      "cell_type": "code",
      "source": [
        "listas = [5,8,7,9, \"luis\", \"jonathan\", \"ramon\"]\n",
        "print(listas, listas[-1])"
      ],
      "metadata": {
        "id": "HA63Qd5Hl-HP",
        "outputId": "24afbffd-2b3c-4d38-a898-23d16ad113a6",
        "colab": {
          "base_uri": "https://localhost:8080/"
        }
      },
      "execution_count": null,
      "outputs": [
        {
          "output_type": "stream",
          "name": "stdout",
          "text": [
            "[5, 8, 7, 9, 'luis', 'jonathan', 'ramon'] ramon\n"
          ]
        }
      ]
    },
    {
      "cell_type": "code",
      "source": [
        "def obtenerNota(nota, eval):\n",
        "  return eval[1]*0.3 + nota"
      ],
      "metadata": {
        "id": "xl-Ml9QOnLeP"
      },
      "execution_count": null,
      "outputs": []
    },
    {
      "cell_type": "code",
      "source": [
        "matriz = [ [\"Lab1\", 8],[\"lab2\",9], [\"parcial\", 8] ]\n",
        "reduce(obtenerNota, matriz, 0)"
      ],
      "metadata": {
        "id": "kkeCTwsHmTyR",
        "outputId": "5d99864d-a152-407f-969a-51415343247b",
        "colab": {
          "base_uri": "https://localhost:8080/"
        }
      },
      "execution_count": null,
      "outputs": [
        {
          "output_type": "execute_result",
          "data": {
            "text/plain": [
              "7.5"
            ]
          },
          "metadata": {},
          "execution_count": 52
        }
      ]
    }
  ]
}