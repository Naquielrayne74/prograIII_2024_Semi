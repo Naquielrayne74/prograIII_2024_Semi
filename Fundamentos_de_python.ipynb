{
  "nbformat": 4,
  "nbformat_minor": 0,
  "metadata": {
    "colab": {
      "provenance": [],
      "authorship_tag": "ABX9TyM+qfrbmef81m6j+MTyuPKJ",
      "include_colab_link": true
    },
    "kernelspec": {
      "name": "python3",
      "display_name": "Python 3"
    },
    "language_info": {
      "name": "python"
    }
  },
  "cells": [
    {
      "cell_type": "markdown",
      "metadata": {
        "id": "view-in-github",
        "colab_type": "text"
      },
      "source": [
        "<a href=\"https://colab.research.google.com/github/Naquielrayne74/prograIII_2024_Semi/blob/main/Fundamentos_de_python.ipynb\" target=\"_parent\"><img src=\"https://colab.research.google.com/assets/colab-badge.svg\" alt=\"Open In Colab\"/></a>"
      ]
    },
    {
      "cell_type": "code",
      "execution_count": null,
      "metadata": {
        "colab": {
          "base_uri": "https://localhost:8080/"
        },
        "id": "xSykCy8-3gSg",
        "outputId": "553eb60d-adbd-4af4-bd38-1d19ba0a9796"
      },
      "outputs": [
        {
          "output_type": "stream",
          "name": "stdout",
          "text": [
            "hola mundo\n",
            "hola Nahun Martinez , inicial:  N M\n"
          ]
        }
      ],
      "source": [
        "print(\"hola mundo\")\n",
        "nombre = \"Nahun Martinez\"\n",
        "\n",
        "print(\"hola\", nombre, \", inicial: \", nombre[0], nombre[6])"
      ]
    },
    {
      "cell_type": "markdown",
      "source": [
        "EJERCICIO, crear un programa en python que sume dos numeros"
      ],
      "metadata": {
        "id": "eWcV8y1b9i6J"
      }
    },
    {
      "cell_type": "code",
      "source": [
        "num1 = 5\n",
        "num2 = 9.5\n",
        "resp = num1 + num2\n",
        "print(\"La suma es: \", resp)\n"
      ],
      "metadata": {
        "colab": {
          "base_uri": "https://localhost:8080/"
        },
        "id": "PolI1HGC9sX9",
        "outputId": "82d5f230-0c0b-4566-93dd-c98d766dcdb8"
      },
      "execution_count": null,
      "outputs": [
        {
          "output_type": "stream",
          "name": "stdout",
          "text": [
            "La suma es:  14.5\n"
          ]
        }
      ]
    },
    {
      "cell_type": "markdown",
      "source": [
        "EJERCICIO, crear un programa en python que sume dos numeros intriducidos por el usuario"
      ],
      "metadata": {
        "id": "r5td5JW-_uZh"
      }
    },
    {
      "cell_type": "code",
      "source": [
        "print(\"ingrese el primer numero\")\n",
        "num1 = float(input())\n",
        "\n",
        "print(\"ingrese el segundo numero\")\n",
        "num2 = float(input())\n",
        "\n",
        "resp = num1 + num2\n",
        "print(\"la suma es: \", resp)"
      ],
      "metadata": {
        "colab": {
          "base_uri": "https://localhost:8080/"
        },
        "id": "6qSaQMHV_3G6",
        "outputId": "e3841d56-6512-42e7-81e6-6bdda4c9ff92"
      },
      "execution_count": null,
      "outputs": [
        {
          "output_type": "stream",
          "name": "stdout",
          "text": [
            "ingrese el primer numero\n",
            "2\n",
            "ingrese el segundo numero\n",
            "4\n",
            "la suma es:  6.0\n"
          ]
        }
      ]
    },
    {
      "cell_type": "code",
      "source": [
        "#tipos de datos\n",
        "num1 = 5\n",
        "num2 = 5.9\n",
        "\n",
        "nombre = \"Nahun Martinez\"\n",
        "print(nombre[0:5], nombre[:5], nombre[-2], nombre[5:len(nombre)])\n",
        "\n",
        "estado = True\n",
        "print(estado)\n",
        "\n",
        "print(type(nombre), type(num1), type(num2), type(estado))\n"
      ],
      "metadata": {
        "colab": {
          "base_uri": "https://localhost:8080/"
        },
        "id": "KcG56ehrCHc-",
        "outputId": "42f3fe1e-44a1-4e48-95ce-a2cfeb49ef3e"
      },
      "execution_count": null,
      "outputs": [
        {
          "output_type": "stream",
          "name": "stdout",
          "text": [
            "Nahun Nahun e  Martinez\n"
          ]
        }
      ]
    },
    {
      "cell_type": "markdown",
      "source": [
        "EJERCICIO, cree un programa en python que lea un numero y determine si es par o impar."
      ],
      "metadata": {
        "id": "lam_Rg1uE54j"
      }
    },
    {
      "cell_type": "code",
      "source": [
        "num = int(input(\"ingrese un numero\"))\n",
        "if num % 2 == 0:\n",
        "  print (\"el numero es par\", num)\n",
        "else:\n",
        "  print(\"el numero es impar\")"
      ],
      "metadata": {
        "colab": {
          "base_uri": "https://localhost:8080/"
        },
        "id": "h97UGDmiFRLd",
        "outputId": "59d800df-696e-4101-f16c-79ec35c8b489"
      },
      "execution_count": null,
      "outputs": [
        {
          "output_type": "stream",
          "name": "stdout",
          "text": [
            "ingrese un numero1\n",
            "el numero es impar\n"
          ]
        }
      ]
    },
    {
      "cell_type": "markdown",
      "source": [
        "Conversor de Fahrenheit a Celsius"
      ],
      "metadata": {
        "id": "UaTMhGzzBNMy"
      }
    },
    {
      "cell_type": "code",
      "source": [
        "def fahrenheit_a_celsius(fahrenheit):\n",
        "    celsius = (fahrenheit - 32) * 5.0/9.0\n",
        "    return celsius\n",
        "fahrenheit = float(input(\"Introduce la temperatura en Fahrenheit: \"))\n",
        "celsius = fahrenheit_a_celsius(fahrenheit)\n",
        "print(f\"{fahrenheit} grados Fahrenheit son {celsius:.2f} grados Celsius.\")"
      ],
      "metadata": {
        "colab": {
          "base_uri": "https://localhost:8080/"
        },
        "id": "HU3QcxacBREz",
        "outputId": "80992ff3-a286-492c-ca81-0dc820d37022"
      },
      "execution_count": 5,
      "outputs": [
        {
          "output_type": "stream",
          "name": "stdout",
          "text": [
            "Introduce la temperatura en Fahrenheit: 75\n",
            "75.0 grados Fahrenheit son 23.89 grados Celsius.\n"
          ]
        }
      ]
    },
    {
      "cell_type": "markdown",
      "source": [
        "Conversor [Fahrenheit y Celcius] a kelvin"
      ],
      "metadata": {
        "id": "VnqVeGWfBWUe"
      }
    },
    {
      "cell_type": "code",
      "source": [
        "def fahrenheit_a_kelvin(fahrenheit):\n",
        "    kelvin = (fahrenheit - 32) * 5.0/9.0 + 273.15\n",
        "    return kelvin\n",
        "\n",
        "def celsius_a_kelvin(celsius):\n",
        "    kelvin = celsius + 273.15\n",
        "    return kelvin\n",
        "\n",
        "escala = input(\"Introduce la escala de la temperatura (F para Fahrenheit, C para Celsius): \").strip().upper()\n",
        "temperatura = float(input(f\"Introduce la temperatura en {escala}: \"))\n",
        "\n",
        "if escala == 'F':\n",
        "    kelvin = fahrenheit_a_kelvin(temperatura)\n",
        "elif escala == 'C':\n",
        "    kelvin = celsius_a_kelvin(temperatura)\n",
        "else:\n",
        "    print(\"Escala no válida.\")\n",
        "    kelvin = None\n",
        "\n",
        "if kelvin is not None:\n",
        " print(f\"La temperatura en Kelvin es: {kelvin:.2f} K.\")"
      ],
      "metadata": {
        "colab": {
          "base_uri": "https://localhost:8080/"
        },
        "id": "2WfsCz6XBcxS",
        "outputId": "cc78ba94-0c80-4721-e845-9c92afde3ae6"
      },
      "execution_count": 6,
      "outputs": [
        {
          "output_type": "stream",
          "name": "stdout",
          "text": [
            "Introduce la escala de la temperatura (F para Fahrenheit, C para Celsius): f\n",
            "Introduce la temperatura en F: 75\n",
            "La temperatura en Kelvin es: 297.04 K.\n"
          ]
        }
      ]
    },
    {
      "cell_type": "markdown",
      "source": [
        "Ejercicio: elevar un numero al cuadrado."
      ],
      "metadata": {
        "id": "oko4ui3jAkG7"
      }
    },
    {
      "cell_type": "code",
      "source": [
        "def elevarCuadrado(base=0, exponente=2):\n",
        "  return base**exponente"
      ],
      "metadata": {
        "id": "KTdZQCvwAnt6"
      },
      "execution_count": 10,
      "outputs": []
    },
    {
      "cell_type": "code",
      "source": [
        "num = int(input(\"Num: \"))\n",
        "print(\"cuadrado; \", elevarCuadrado(num, 3))"
      ],
      "metadata": {
        "colab": {
          "base_uri": "https://localhost:8080/"
        },
        "id": "uUmzTdoyAq_L",
        "outputId": "cc116def-32cb-495b-e0ad-3da4bc2c1126"
      },
      "execution_count": 2,
      "outputs": [
        {
          "output_type": "stream",
          "name": "stdout",
          "text": [
            "Num: 2\n",
            "cuadrado;  8\n"
          ]
        }
      ]
    },
    {
      "cell_type": "markdown",
      "source": [
        "USANDO FUNCIONES LAMBDA."
      ],
      "metadata": {
        "id": "XpUfCkyfAxrO"
      }
    },
    {
      "cell_type": "code",
      "source": [
        "elevarCuadradoLambda = lambda base, exponente: base**exponente\n",
        "\n",
        "valor = int(input(\"Num: \"))\n",
        "print(\"Cuadrado: \", elevarCuadradoLambda(valor, 2))"
      ],
      "metadata": {
        "colab": {
          "base_uri": "https://localhost:8080/"
        },
        "id": "m1bdVspKA012",
        "outputId": "8fe995c0-a30e-4ce5-b0a6-babbfe94d619"
      },
      "execution_count": 3,
      "outputs": [
        {
          "output_type": "stream",
          "name": "stdout",
          "text": [
            "Num: 3\n",
            "Cuadrado:  9\n"
          ]
        }
      ]
    },
    {
      "cell_type": "code",
      "source": [
        "serie = [5,4,3,2,6,7]\n",
        "resp = map(lambda x: x**2, serie)\n",
        "print(list(resp))\n",
        "\n",
        "resp2 = map(elevarCuadrado, serie)\n",
        "print(list(resp2))"
      ],
      "metadata": {
        "colab": {
          "base_uri": "https://localhost:8080/"
        },
        "id": "TCugbqxbA7Om",
        "outputId": "e7f0c456-d9a6-45a9-bd36-b1b57970af39"
      },
      "execution_count": 11,
      "outputs": [
        {
          "output_type": "stream",
          "name": "stdout",
          "text": [
            "[25, 16, 9, 4, 36, 49]\n",
            "[25, 16, 9, 4, 36, 49]\n"
          ]
        }
      ]
    },
    {
      "cell_type": "markdown",
      "source": [
        "Ejercicio: obtener la raiz cuadrada de una serie de numeros fijos."
      ],
      "metadata": {
        "id": "QO5aHl3cC-d6"
      }
    },
    {
      "cell_type": "code",
      "source": [
        "def raizCuadrada(base, exponente=0.5):\n",
        "  return base**exponente\n",
        "\n",
        "\n",
        "serie = [5,4,3,2,6,7,25]\n",
        "resp = map(raizCuadrada, serie)\n",
        "print(list(resp))\n"
      ],
      "metadata": {
        "colab": {
          "base_uri": "https://localhost:8080/"
        },
        "id": "S6eI7q7cDHnB",
        "outputId": "3e46a00e-1b91-4430-e2a1-547f6656664c"
      },
      "execution_count": 16,
      "outputs": [
        {
          "output_type": "stream",
          "name": "stdout",
          "text": [
            "[2.23606797749979, 2.0, 1.7320508075688772, 1.4142135623730951, 2.449489742783178, 2.6457513110645907, 5.0]\n"
          ]
        }
      ]
    }
  ]
}