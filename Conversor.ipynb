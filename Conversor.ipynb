{
  "nbformat": 4,
  "nbformat_minor": 0,
  "metadata": {
    "colab": {
      "provenance": [],
      "authorship_tag": "ABX9TyNRQIRd1aSC2U6bDBffLyfJ",
      "include_colab_link": true
    },
    "kernelspec": {
      "name": "python3",
      "display_name": "Python 3"
    },
    "language_info": {
      "name": "python"
    }
  },
  "cells": [
    {
      "cell_type": "markdown",
      "metadata": {
        "id": "view-in-github",
        "colab_type": "text"
      },
      "source": [
        "<a href=\"https://colab.research.google.com/github/Naquielrayne74/prograIII_2024_Semi/blob/TareaConversor/Conversor.ipynb\" target=\"_parent\"><img src=\"https://colab.research.google.com/assets/colab-badge.svg\" alt=\"Open In Colab\"/></a>"
      ]
    },
    {
      "cell_type": "markdown",
      "source": [
        "Conversor de Fahrenheit a Celsius"
      ],
      "metadata": {
        "id": "fHAZY9a45OH6"
      }
    },
    {
      "cell_type": "code",
      "execution_count": 1,
      "metadata": {
        "colab": {
          "base_uri": "https://localhost:8080/"
        },
        "id": "dnp7mMdc48bm",
        "outputId": "d3916843-af4a-420c-8f66-06311e50e1b4"
      },
      "outputs": [
        {
          "output_type": "stream",
          "name": "stdout",
          "text": [
            "Introduce la temperatura en Fahrenheit: 75\n",
            "75.0 grados Fahrenheit son 23.89 grados Celsius.\n"
          ]
        }
      ],
      "source": [
        "def fahrenheit_a_celsius(fahrenheit):\n",
        "    celsius = (fahrenheit - 32) * 5.0/9.0\n",
        "    return celsius\n",
        "fahrenheit = float(input(\"Introduce la temperatura en Fahrenheit: \"))\n",
        "celsius = fahrenheit_a_celsius(fahrenheit)\n",
        "print(f\"{fahrenheit} grados Fahrenheit son {celsius:.2f} grados Celsius.\")"
      ]
    },
    {
      "cell_type": "markdown",
      "source": [
        "Conversor [Fahrenheit y Celcius] a kelvin"
      ],
      "metadata": {
        "id": "s8yMA7V25CTD"
      }
    },
    {
      "cell_type": "code",
      "source": [
        "def fahrenheit_a_kelvin(fahrenheit):\n",
        "    kelvin = (fahrenheit - 32) * 5.0/9.0 + 273.15\n",
        "    return kelvin\n",
        "\n",
        "def celsius_a_kelvin(celsius):\n",
        "    kelvin = celsius + 273.15\n",
        "    return kelvin\n",
        "\n",
        "escala = input(\"Introduce la escala de la temperatura (F para Fahrenheit, C para Celsius): \").strip().upper()\n",
        "temperatura = float(input(f\"Introduce la temperatura en {escala}: \"))\n",
        "\n",
        "if escala == 'F':\n",
        "    kelvin = fahrenheit_a_kelvin(temperatura)\n",
        "elif escala == 'C':\n",
        "    kelvin = celsius_a_kelvin(temperatura)\n",
        "else:\n",
        "    print(\"Escala no válida.\")\n",
        "    kelvin = None\n",
        "\n",
        "if kelvin is not None:\n",
        " print(f\"La temperatura en Kelvin es: {kelvin:.2f} K.\")"
      ],
      "metadata": {
        "colab": {
          "base_uri": "https://localhost:8080/"
        },
        "id": "bqPzvHbD5F1K",
        "outputId": "0e78779e-1394-4ccb-e1c2-14e2426f69d8"
      },
      "execution_count": 2,
      "outputs": [
        {
          "output_type": "stream",
          "name": "stdout",
          "text": [
            "Introduce la escala de la temperatura (F para Fahrenheit, C para Celsius): f\n",
            "Introduce la temperatura en F: 75\n",
            "La temperatura en Kelvin es: 297.04 K.\n"
          ]
        }
      ]
    }
  ]
}